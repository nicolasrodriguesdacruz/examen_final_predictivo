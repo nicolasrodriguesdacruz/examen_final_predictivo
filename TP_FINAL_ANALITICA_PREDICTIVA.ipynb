{
  "cells": [
    {
      "cell_type": "markdown",
      "metadata": {
        "id": "D1ELfkQ9jutQ"
      },
      "source": [
        "Lectura de la base"
      ]
    },
    {
      "cell_type": "code",
      "execution_count": 106,
      "metadata": {
        "id": "C_qwl3fFciGG",
        "colab": {
          "base_uri": "https://localhost:8080/"
        },
        "outputId": "b38dbc8e-0db9-433d-cbe6-a8492784b82e"
      },
      "outputs": [
        {
          "output_type": "stream",
          "name": "stdout",
          "text": [
            "mv: cannot stat 'kaggle.json': No such file or directory\n"
          ]
        }
      ],
      "source": [
        "!mv kaggle.json /root/.kaggle/"
      ]
    },
    {
      "cell_type": "code",
      "execution_count": 107,
      "metadata": {
        "id": "JA9mf93YiXyU",
        "colab": {
          "base_uri": "https://localhost:8080/"
        },
        "outputId": "484a96de-832e-4e4a-974d-8141a8125ca8"
      },
      "outputs": [
        {
          "output_type": "stream",
          "name": "stdout",
          "text": [
            "mkdir: cannot create directory ‘/root/.kaggle’: File exists\n"
          ]
        }
      ],
      "source": [
        "!mkdir ~/.kaggle"
      ]
    },
    {
      "cell_type": "code",
      "execution_count": 108,
      "metadata": {
        "colab": {
          "base_uri": "https://localhost:8080/"
        },
        "id": "X8NL3aJEl9qp",
        "outputId": "4cd17aeb-f31f-4254-8592-1a30fdf17d40"
      },
      "outputs": [
        {
          "output_type": "stream",
          "name": "stdout",
          "text": [
            "Mounted at /content/drive\n"
          ]
        }
      ],
      "source": [
        "import json\n",
        "from google.colab import drive\n",
        "\n",
        "!touch ~/.kaggle/kaggle.json\n",
        "\n",
        "drive.mount('/content/drive', force_remount=True)\n",
        "with open(\"/content/drive/My Drive/kaggle.json\", 'r') as f:\n",
        "    api_token= json.load(f)\n",
        "\n",
        "with open('/root/.kaggle/kaggle.json', 'w') as file:\n",
        "    json.dump(api_token, file)\n",
        "\n",
        "!chmod 600 ~/.kaggle/kaggle.json\n"
      ]
    },
    {
      "cell_type": "code",
      "execution_count": 109,
      "metadata": {
        "colab": {
          "base_uri": "https://localhost:8080/"
        },
        "id": "4kCeFDQPmCVs",
        "outputId": "20008160-8e44-46cc-805d-86e4cd9866bb"
      },
      "outputs": [
        {
          "output_type": "stream",
          "name": "stdout",
          "text": [
            "house-prices-advanced-regression-techniques.zip: Skipping, found more recently modified local copy (use --force to force download)\n"
          ]
        }
      ],
      "source": [
        "!kaggle competitions download -c house-prices-advanced-regression-techniques"
      ]
    },
    {
      "cell_type": "code",
      "execution_count": 111,
      "metadata": {
        "id": "QVjp-XhWog9c"
      },
      "outputs": [],
      "source": [
        "import zipfile\n",
        "import os\n",
        "\n",
        "os.listdir()\n",
        "\n",
        "for file in os.listdir():\n",
        "    if file.endswith('.zip'):\n",
        "      zip_ref = zipfile.ZipFile(file, 'r')\n",
        "      zip_ref.extractall()\n",
        "      zip_ref.close()"
      ]
    },
    {
      "cell_type": "code",
      "execution_count": 112,
      "metadata": {
        "id": "weKTlFuMg5ij"
      },
      "outputs": [],
      "source": [
        "import pandas as pd\n",
        "import matplotlib.pyplot as plt\n",
        "import seaborn as sns\n",
        "import numpy as np"
      ]
    },
    {
      "cell_type": "code",
      "execution_count": 113,
      "metadata": {
        "id": "8AH-IHNmpv83"
      },
      "outputs": [],
      "source": [
        "train = pd.read_csv('/content/train.csv')\n",
        "test = pd.read_csv('/content/test.csv')"
      ]
    },
    {
      "cell_type": "markdown",
      "source": [
        "### Vistazo general"
      ],
      "metadata": {
        "id": "COwHVKvs0kxD"
      }
    },
    {
      "cell_type": "code",
      "execution_count": null,
      "metadata": {
        "id": "uP0K8c_LzxZn"
      },
      "outputs": [],
      "source": [
        "print(train.columns)"
      ]
    },
    {
      "cell_type": "code",
      "execution_count": null,
      "metadata": {
        "id": "rrmabW5Ep5h3"
      },
      "outputs": [],
      "source": [
        "train.head(10)"
      ]
    },
    {
      "cell_type": "code",
      "source": [
        "data_types = train.dtypes.value_counts()\n",
        "print(data_types)"
      ],
      "metadata": {
        "colab": {
          "base_uri": "https://localhost:8080/"
        },
        "id": "KPUdZ1wSZPJ7",
        "outputId": "78efe311-24fd-4396-c276-8e14da63665f"
      },
      "execution_count": 13,
      "outputs": [
        {
          "output_type": "stream",
          "name": "stdout",
          "text": [
            "object     43\n",
            "int64      35\n",
            "float64     3\n",
            "dtype: int64\n"
          ]
        }
      ]
    },
    {
      "cell_type": "code",
      "source": [
        "num_filas = train.shape[0]\n",
        "num_columnas = train.shape[1]\n",
        "\n",
        "print(\"Cantidad de filas:\", num_filas)\n",
        "print(\"Cantidad de columnas:\", num_columnas)"
      ],
      "metadata": {
        "colab": {
          "base_uri": "https://localhost:8080/"
        },
        "id": "lugJopBgX6FJ",
        "outputId": "0445aeea-5f9d-4bb2-afa3-3d251933dc43"
      },
      "execution_count": 12,
      "outputs": [
        {
          "output_type": "stream",
          "name": "stdout",
          "text": [
            "Cantidad de filas: 1460\n",
            "Cantidad de columnas: 81\n"
          ]
        }
      ]
    },
    {
      "cell_type": "code",
      "source": [
        "object_cols_train = train.select_dtypes(include=['object']).columns.tolist()\n",
        "print(\"Columnas de tipo 'object' en train:\", object_cols_train)"
      ],
      "metadata": {
        "id": "SfepCSI3ptu3"
      },
      "execution_count": null,
      "outputs": []
    },
    {
      "cell_type": "markdown",
      "source": [
        "### Tratamiento de nulls y outliers"
      ],
      "metadata": {
        "id": "G-KWzIMG0raK"
      }
    },
    {
      "cell_type": "code",
      "source": [
        "null_counts = train.isnull().sum()\n",
        "variables_con_nulos = null_counts[null_counts > 0]\n",
        "null_table = pd.DataFrame(variables_con_nulos, columns=['Cantidad de Valores Nulos'])\n",
        "print(null_table)"
      ],
      "metadata": {
        "id": "fGcqREvmcQWK",
        "colab": {
          "base_uri": "https://localhost:8080/"
        },
        "outputId": "4701606a-6280-4067-ec8c-bd99c316932d"
      },
      "execution_count": 30,
      "outputs": [
        {
          "output_type": "stream",
          "name": "stdout",
          "text": [
            "             Cantidad de Valores Nulos\n",
            "Electrical                           1\n",
            "GarageYrBlt                         81\n"
          ]
        }
      ]
    },
    {
      "cell_type": "code",
      "source": [
        "# Reemplaza los valores nulos por 0 en las columnas especificadas en train y test\n",
        "train['Alley_bin'] = train['Alley'].fillna(0)\n",
        "train['PoolQC_bin'] = train['PoolQC'].fillna(0)\n",
        "train['Fence_bin'] = train['Fence'].fillna(0)\n",
        "train['MiscFeature_bin'] = train['MiscFeature'].fillna(0)\n",
        "test['Alley_bin'] = test['Alley'].fillna(0)\n",
        "test['PoolQC_bin'] = test['PoolQC'].fillna(0)\n",
        "test['Fence_bin'] = test['Fence'].fillna(0)\n",
        "test['MiscFeature_bin'] = test['MiscFeature'].fillna(0)\n",
        "\n",
        "# Asigna 1 a los valores no nulos en las columnas especificadas en train y test\n",
        "train.loc[train['Alley_bin'] != 0, 'Alley_bin'] = 1\n",
        "train.loc[train['PoolQC_bin'] != 0, 'PoolQC_bin'] = 1\n",
        "train.loc[train['Fence_bin'] != 0, 'Fence_bin'] = 1\n",
        "train.loc[train['MiscFeature_bin'] != 0, 'MiscFeature_bin'] = 1\n",
        "test.loc[test['Alley_bin'] != 0, 'Alley_bin'] = 1\n",
        "test.loc[test['PoolQC_bin'] != 0, 'PoolQC_bin'] = 1\n",
        "test.loc[test['Fence_bin'] != 0, 'Fence_bin'] = 1\n",
        "test.loc[test['MiscFeature_bin'] != 0, 'MiscFeature_bin'] = 1"
      ],
      "metadata": {
        "id": "GXfotsDv5QWQ"
      },
      "execution_count": 47,
      "outputs": []
    },
    {
      "cell_type": "code",
      "source": [
        "#Como posee valores numericos si hay nulls los tomo como 0\n",
        "train['LotFrontage'] = train['LotFrontage'].fillna(0)\n",
        "test['LotFrontage'] = test['LotFrontage'].fillna(0)"
      ],
      "metadata": {
        "id": "LABj36m7EEaV"
      },
      "execution_count": 48,
      "outputs": []
    },
    {
      "cell_type": "code",
      "source": [
        "train['MasVnrType'] = train['MasVnrType'].fillna('None')\n",
        "test['MasVnrType'] = test['MasVnrType'].fillna('None')\n",
        "train['MasVnrArea'] = train['MasVnrArea'].fillna(0)\n",
        "test['MasVnrArea'] = test['MasVnrArea'].fillna(0)"
      ],
      "metadata": {
        "id": "hk-W2QeRHsur"
      },
      "execution_count": 49,
      "outputs": []
    },
    {
      "cell_type": "code",
      "source": [
        "train.drop(['Alley', 'PoolQC', 'Fence', 'MiscFeature'], axis=1, inplace=True)\n",
        "test.drop(['Alley', 'PoolQC', 'Fence', 'MiscFeature'], axis=1, inplace=True)"
      ],
      "metadata": {
        "id": "FqDBl1ZFFxwR"
      },
      "execution_count": 50,
      "outputs": []
    },
    {
      "cell_type": "code",
      "source": [
        "mapping = {'Ex': 5, 'Gd': 4, 'TA': 3, 'Fa': 2, 'Po': 1, 'NA': 0}\n",
        "train['BsmtQual'] = train['BsmtQual'].map(mapping)\n",
        "train['BsmtCond'] = train['BsmtCond'].map(mapping)\n",
        "test['BsmtQual'] = test['BsmtQual'].map(mapping)\n",
        "test['BsmtCond'] = test['BsmtCond'].map(mapping)\n",
        "train['BsmtQual'] = train['BsmtQual'].fillna(0)\n",
        "train['BsmtCond'] = train['BsmtCond'].fillna(0)\n",
        "test['BsmtQual'] = test['BsmtQual'].fillna(0)\n",
        "test['BsmtCond'] = test['BsmtCond'].fillna(0)"
      ],
      "metadata": {
        "id": "KfXuVM9xIxSn"
      },
      "execution_count": 51,
      "outputs": []
    },
    {
      "cell_type": "code",
      "source": [
        "mapping = {'Ex': 5, 'Gd': 4, 'TA': 3, 'Fa': 2, 'Po': 1}\n",
        "train['FireplaceQu'] = train['FireplaceQu'].map(mapping)\n",
        "train['FireplaceQu'] = train['FireplaceQu'].fillna(0)"
      ],
      "metadata": {
        "id": "Ek5sgzpNptFs"
      },
      "execution_count": 52,
      "outputs": []
    },
    {
      "cell_type": "code",
      "source": [
        "train['FireplaceQu'] = train['FireplaceQu'].map(mapping)\n",
        "test['FireplaceQu'] = test['FireplaceQu'].map(mapping)\n",
        "train['FireplaceQu'] = train['FireplaceQu'].fillna(0)\n",
        "test['FireplaceQu'] = test['FireplaceQu'].fillna(0)"
      ],
      "metadata": {
        "id": "zT8XQi4UQr0p"
      },
      "execution_count": 53,
      "outputs": []
    },
    {
      "cell_type": "code",
      "source": [
        "train['GarageQual'] = train['GarageQual'].map(mapping)\n",
        "train['GarageCond'] = train['GarageCond'].map(mapping)\n",
        "test['GarageQual'] = test['GarageQual'].map(mapping)\n",
        "test['GarageCond'] = test['GarageCond'].map(mapping)\n",
        "train['GarageQual'] = train['GarageQual'].fillna(0)\n",
        "train['GarageCond'] = train['GarageCond'].fillna(0)\n",
        "test['GarageQual'] = test['GarageQual'].fillna(0)\n",
        "test['GarageCond'] = test['GarageCond'].fillna(0)"
      ],
      "metadata": {
        "id": "QV-zZjpNS4OQ"
      },
      "execution_count": 54,
      "outputs": []
    },
    {
      "cell_type": "code",
      "source": [
        "mapping_GarType = {'2Types': 6, 'Attchd': 5, 'Basment': 4, 'BuiltIn': 3, 'CarPort': 2, 'Detchd': 1, 'NA': 0}\n",
        "train['GarageType'] = train['GarageType'].map(mapping_GarType)\n",
        "test['GarageType'] = test['GarageType'].map(mapping_GarType)\n",
        "train['GarageType'] = train['GarageType'].fillna(0)\n",
        "test['GarageType'] = test['GarageType'].fillna(0)"
      ],
      "metadata": {
        "id": "YutSW2IkUA5r"
      },
      "execution_count": 55,
      "outputs": []
    },
    {
      "cell_type": "code",
      "source": [
        "mapping = {'Fin': 3, 'RFn': 2, 'Unf': 1, 'NA': 0}\n",
        "train['GarageFinish'] = train['GarageFinish'].map(mapping)\n",
        "test['GarageFinish'] = test['GarageFinish'].map(mapping)\n",
        "train['GarageFinish'] = train['GarageFinish'].fillna(0)\n",
        "test['GarageFinish'] = test['GarageFinish'].fillna(0)"
      ],
      "metadata": {
        "id": "ZxQyOpQvUTN-"
      },
      "execution_count": 56,
      "outputs": []
    },
    {
      "cell_type": "code",
      "source": [
        "mapping_bsmt = {'GLQ': 6, 'ALQ': 5, 'BLQ': 4, 'Rec': 3, 'LwQ': 2, 'Unf': 1, 'NA': 0}\n",
        "train['BsmtFinType1'] = train['BsmtFinType1'].map(mapping_bsmt)\n",
        "train['BsmtFinType2'] = train['BsmtFinType2'].map(mapping_bsmt)\n",
        "test['BsmtFinType1'] = test['BsmtFinType1'].map(mapping_bsmt)\n",
        "test['BsmtFinType2'] = test['BsmtFinType2'].map(mapping_bsmt)\n",
        "train['BsmtFinType1'] = train['BsmtFinType1'].fillna(0)\n",
        "train['BsmtFinType2'] = train['BsmtFinType2'].fillna(0)\n",
        "test['BsmtFinType1'] = test['BsmtFinType1'].fillna(0)\n",
        "test['BsmtFinType2'] = test['BsmtFinType2'].fillna(0)"
      ],
      "metadata": {
        "id": "iqgfdHluV1UB"
      },
      "execution_count": 57,
      "outputs": []
    },
    {
      "cell_type": "code",
      "source": [
        "mapping = {'Gd': 4, 'Av': 3, 'Mn': 2, 'No': 1, 'NA': 0}\n",
        "train['BsmtExposure'] = train['BsmtExposure'].map(mapping)\n",
        "test['BsmtExposure'] = test['BsmtExposure'].map(mapping)\n",
        "train['BsmtExposure'] = train['BsmtExposure'].fillna(0)\n",
        "test['BsmtExposure'] = test['BsmtExposure'].fillna(0)"
      ],
      "metadata": {
        "id": "EfyHMMEXn0sN"
      },
      "execution_count": 58,
      "outputs": []
    },
    {
      "cell_type": "code",
      "source": [
        "import numpy as np\n",
        "q1 = train.quantile(0.25)\n",
        "q3 = train.quantile(0.75)\n",
        "iqr = q3 - q1\n",
        "outlier_cols = []\n",
        "for col in train.select_dtypes(include=np.number):\n",
        "    is_outlier = (train[col] < (q1[col] - 2 * iqr[col])) | (train[col] > (q3[col] + 1.5 * iqr[col]))\n",
        "    if any(is_outlier):\n",
        "        outlier_cols.append(col)\n",
        "print(\"Variables con outliers en train:\")\n",
        "print(outlier_cols)\n",
        "#BsmtFinSF1,TotalBsmtSF, 1stFlrSF y 2stFlrSF (es posible), BsmtFullBath (same), GarageCars"
      ],
      "metadata": {
        "id": "BV-RuswSsRyQ"
      },
      "execution_count": null,
      "outputs": []
    },
    {
      "cell_type": "code",
      "source": [
        "fig, axes = plt.subplots(len(outlier_cols), 1, figsize=(8, len(outlier_cols) * 4))\n",
        "fig.tight_layout(pad=3.0)\n",
        "for i, column in enumerate(outlier_cols):\n",
        "    ax = axes[i]\n",
        "    sns.boxplot(data=train, y=column, ax=ax)\n",
        "    ax.set_title(column)\n",
        "plt.show()"
      ],
      "metadata": {
        "id": "0K-7JYc00vrE"
      },
      "execution_count": null,
      "outputs": []
    },
    {
      "cell_type": "code",
      "source": [
        "import matplotlib.pyplot as plt\n",
        "variables = ['BsmtFinSF1', 'TotalBsmtSF', '1stFlrSF']\n",
        "variables2 = ['BsmtFullBath', 'GarageCars','Fireplaces', 'LotFrontage']"
      ],
      "metadata": {
        "id": "k4_gKW91xZt8"
      },
      "execution_count": 41,
      "outputs": []
    },
    {
      "cell_type": "code",
      "source": [
        "plt.figure(figsize=(10, 6))\n",
        "sns.boxplot(data=train[variables])\n",
        "plt.xticks(rotation=90)\n",
        "plt.title('Boxplots de las variables')\n",
        "plt.xlabel('Variables')\n",
        "plt.ylabel('Valores')\n",
        "plt.show()"
      ],
      "metadata": {
        "id": "Jcxsm8WPsOWZ"
      },
      "execution_count": null,
      "outputs": []
    },
    {
      "cell_type": "markdown",
      "source": [
        "### Correlacion entre variables y la target"
      ],
      "metadata": {
        "id": "B4JcjgCKB_AD"
      }
    },
    {
      "cell_type": "code",
      "source": [
        "import matplotlib.pyplot as plt\n",
        "\n",
        "correlation_scores = train.corr()['SalePrice'].drop('SalePrice')\n",
        "\n",
        "# Filtrar las variables con correlación mayor a 0.15\n",
        "high_corr_vars = correlation_scores[abs(correlation_scores) > 0.15]\n",
        "\n",
        "# Graficar la correlación en forma de barras\n",
        "plt.figure(figsize=(10, 6))\n",
        "high_corr_vars.plot(kind='bar')\n",
        "plt.xlabel('Variables')\n",
        "plt.ylabel('Coeficiente de correlación')\n",
        "plt.title('Correlación entre Sale Price y las otras variables')\n",
        "plt.xticks(rotation=45)\n",
        "plt.tight_layout()\n",
        "plt.show()\n"
      ],
      "metadata": {
        "id": "HIs_7S_O_PaX",
        "colab": {
          "base_uri": "https://localhost:8080/",
          "height": 607
        },
        "outputId": "6d8391df-2a85-4421-b812-d63eb97a0ddc"
      },
      "execution_count": 101,
      "outputs": [
        {
          "output_type": "display_data",
          "data": {
            "text/plain": [
              "<Figure size 1000x600 with 1 Axes>"
            ],
            "image/png": "[encoded data removed]"
          },
          "metadata": {}
        }
      ]
    },
    {
      "cell_type": "code",
      "source": [
        "import seaborn as sns\n",
        "import matplotlib.pyplot as plt\n",
        "corr_matrix = train.corr()\n",
        "correlation_threshold = 0.4\n",
        "high_corr_vars = corr_matrix[abs(corr_matrix['SalePrice']) > correlation_threshold]['SalePrice'].index\n",
        "corr_submatrix = train[high_corr_vars].corr()\n",
        "plt.figure(figsize=(10, 8))\n",
        "sns.heatmap(corr_submatrix, annot=True, cmap='coolwarm', center=0)\n",
        "plt.title('Matriz de Correlación de SalePrice')\n",
        "plt.show()"
      ],
      "metadata": {
        "id": "Khme7FeI-C3x"
      },
      "execution_count": null,
      "outputs": []
    },
    {
      "cell_type": "code",
      "source": [
        "import folium\n",
        "mapa_ames = folium.Map(location=[42.0308, -93.6319], zoom_start=13)\n",
        "barrios = {\n",
        "    'Blmngtn': (42.062806, -93.639963),\n",
        "    'Blueste': (42.053048, -93.648645),\n",
        "    'BrDale': (42.052500, -93.628955),\n",
        "    'BrkSide': (42.033590, -93.626256),\n",
        "    'ClearCr': (42.034310, -93.647567),\n",
        "    'CollgCr': (42.021679, -93.651743),\n",
        "    'Crawfor': (42.021501, -93.624872),\n",
        "    'Edwards': (42.022800, -93.663973),\n",
        "    'Gilbert': (42.060214, -93.636856),\n",
        "    'IDOTRR': (42.019208, -93.623956),\n",
        "    'MeadowV': (42.051611, -93.617025),\n",
        "    'Mitchel': (42.028038, -93.626346),\n",
        "    'Names': (42.042257, -93.613452),\n",
        "    'NoRidge': (42.050307, -93.643253),\n",
        "    'NPkVill': (42.051955, -93.651430),\n",
        "    'NridgHt': (42.048444, -93.643282),\n",
        "    'NWAmes': (42.051619, -93.674951),\n",
        "    'OldTown': (42.029570, -93.615339),\n",
        "    'SWISU': (42.017578, -93.651381),\n",
        "    'Sawyer': (42.034270, -93.667263),\n",
        "    'SawyerW': (42.042875, -93.650286),\n",
        "    'Somerst': (42.052191, -93.645596),\n",
        "    'StoneBr': (42.060749, -93.622224),\n",
        "    'Timber': (42.060331, -93.671070),\n",
        "    'Veenker': (42.040161, -93.653485)\n",
        "}\n",
        "\n",
        "# Agregar marcadores para cada barrio\n",
        "for barrio, coordenadas in barrios.items():\n",
        "    folium.Marker(\n",
        "        location=coordenadas,\n",
        "        popup=barrio,\n",
        "        icon=folium.Icon(color='blue', icon='home')\n",
        "    ).add_to(mapa_ames)\n",
        "\n",
        "# Mostrar el mapa\n",
        "mapa_ames"
      ],
      "metadata": {
        "id": "quPqh5NNZ95I"
      },
      "execution_count": null,
      "outputs": []
    },
    {
      "cell_type": "code",
      "source": [
        "from google.colab import files\n",
        "ruta = \"/content/mapa_ames.html\"\n",
        "files.download(ruta)"
      ],
      "metadata": {
        "colab": {
          "base_uri": "https://localhost:8080/",
          "height": 17
        },
        "id": "PBWxRgdAa2FD",
        "outputId": "28bb16bd-f612-4d6d-e9fb-766876c8219a"
      },
      "execution_count": 105,
      "outputs": [
        {
          "output_type": "display_data",
          "data": {
            "text/plain": [
              "<IPython.core.display.Javascript object>"
            ],
            "application/javascript": [
              "\n",
              "    async function download(id, filename, size) {\n",
              "      if (!google.colab.kernel.accessAllowed) {\n",
              "        return;\n",
              "      }\n",
              "      const div = document.createElement('div');\n",
              "      const label = document.createElement('label');\n",
              "      label.textContent = `Downloading \"${filename}\": `;\n",
              "      div.appendChild(label);\n",
              "      const progress = document.createElement('progress');\n",
              "      progress.max = size;\n",
              "      div.appendChild(progress);\n",
              "      document.body.appendChild(div);\n",
              "\n",
              "      const buffers = [];\n",
              "      let downloaded = 0;\n",
              "\n",
              "      const channel = await google.colab.kernel.comms.open(id);\n",
              "      // Send a message to notify the kernel that we're ready.\n",
              "      channel.send({})\n",
              "\n",
              "      for await (const message of channel.messages) {\n",
              "        // Send a message to notify the kernel that we're ready.\n",
              "        channel.send({})\n",
              "        if (message.buffers) {\n",
              "          for (const buffer of message.buffers) {\n",
              "            buffers.push(buffer);\n",
              "            downloaded += buffer.byteLength;\n",
              "            progress.value = downloaded;\n",
              "          }\n",
              "        }\n",
              "      }\n",
              "      const blob = new Blob(buffers, {type: 'application/binary'});\n",
              "      const a = document.createElement('a');\n",
              "      a.href = window.URL.createObjectURL(blob);\n",
              "      a.download = filename;\n",
              "      div.appendChild(a);\n",
              "      a.click();\n",
              "      div.remove();\n",
              "    }\n",
              "  "
            ]
          },
          "metadata": {}
        },
        {
          "output_type": "display_data",
          "data": {
            "text/plain": [
              "<IPython.core.display.Javascript object>"
            ],
            "application/javascript": [
              "download(\"download_670a1118-fa12-4044-9e55-a9785e63311d\", \"mapa_ames.html\", 29984)"
            ]
          },
          "metadata": {}
        }
      ]
    },
    {
      "cell_type": "code",
      "source": [
        "mean = np.mean(train['SalePrice'])\n",
        "median = np.median(train['SalePrice'])\n",
        "mode = train['SalePrice'].mode().values[0]\n",
        "print(\"Media:\", mean)\n",
        "print(\"Mediana:\", median)\n",
        "print(\"Moda:\", mode)"
      ],
      "metadata": {
        "colab": {
          "base_uri": "https://localhost:8080/"
        },
        "id": "r6c4o6vusbXS",
        "outputId": "720c3f4c-ac0c-4d87-868b-223953c8ac62"
      },
      "execution_count": 115,
      "outputs": [
        {
          "output_type": "stream",
          "name": "stdout",
          "text": [
            "Media: 180921.19589041095\n",
            "Mediana: 163000.0\n",
            "Moda: 140000\n"
          ]
        }
      ]
    },
    {
      "cell_type": "markdown",
      "metadata": {
        "id": "S_s9rqCi0-dK"
      },
      "source": [
        "### Transformación de la base"
      ]
    },
    {
      "cell_type": "code",
      "source": [
        "numerical_features = train.select_dtypes(include=np.number).columns\n",
        "train[numerical_features] = train[numerical_features].fillna(train[numerical_features].median())\n",
        "categorical_features = train.select_dtypes(include='object').columns\n",
        "train[categorical_features] = train[categorical_features].fillna(train[categorical_features].mode().iloc[0])\n",
        "\n",
        "numerical_features = test.select_dtypes(include=np.number).columns\n",
        "test[numerical_features] = test[numerical_features].fillna(test[numerical_features].median())\n",
        "categorical_features = test.select_dtypes(include='object').columns\n",
        "test[categorical_features] = test[categorical_features].fillna(test[categorical_features].mode().iloc[0])"
      ],
      "metadata": {
        "id": "Tr1H_FtPHcfq"
      },
      "execution_count": 60,
      "outputs": []
    },
    {
      "cell_type": "code",
      "source": [
        "from sklearn.preprocessing import LabelEncoder, StandardScaler\n",
        "label_encoder = LabelEncoder()\n",
        "categorical_features = train.select_dtypes(include='object').columns\n",
        "train[categorical_features] = train[categorical_features].apply(lambda x: label_encoder.fit_transform(x))\n",
        "categorical_features = test.select_dtypes(include='object').columns\n",
        "test[categorical_features] = test[categorical_features].apply(lambda x: label_encoder.fit_transform(x))"
      ],
      "metadata": {
        "id": "Hr8dI1cXrjyA"
      },
      "execution_count": 61,
      "outputs": []
    },
    {
      "cell_type": "code",
      "source": [
        "# categorical_features_train = train.select_dtypes(include=['object']).columns.tolist()\n",
        "# categorical_features_test = test.select_dtypes(include=['object']).columns.tolist()\n",
        "# train = pd.get_dummies(train, columns=categorical_features_train)\n",
        "# test = pd.get_dummies(test, columns=categorical_features_test)"
      ],
      "metadata": {
        "id": "hwD9g_NUT_l-"
      },
      "execution_count": null,
      "outputs": []
    },
    {
      "cell_type": "code",
      "source": [
        "train['TotalArea'] = train['1stFlrSF'] + train['2ndFlrSF']\n",
        "train['OverallQual_TotalArea'] = train['OverallQual'] * train['TotalArea']\n",
        "train['GrLivArea_GarageCars'] = train['GrLivArea'] * train['GarageCars']\n",
        "train['m2_techados'] = train['GrLivArea'] + train['TotalBsmtSF']\n",
        "train['Age'] = train['YrSold'] - train['YearBuilt']\n",
        "train['RemodelAge'] = train['YrSold'] - train['YearRemodAdd']\n",
        "train['YearBuilt_Remodel'] = train['YearBuilt'] * train['YearRemodAdd']\n",
        "test['Age'] = test['YrSold'] - test['YearBuilt']\n",
        "test['RemodelAge'] = test['YrSold'] - test['YearRemodAdd']\n",
        "test['YearBuilt_Remodel'] = test['YearBuilt'] * test['YearRemodAdd']\n",
        "test['m2_techados'] = test['GrLivArea'] + test['TotalBsmtSF']\n",
        "test['TotalArea'] = test['1stFlrSF'] + test['2ndFlrSF']\n",
        "test['OverallQual_TotalArea'] = test['OverallQual'] * test['TotalArea']\n",
        "test['GrLivArea_GarageCars'] = test['GrLivArea'] * test['GarageCars']"
      ],
      "metadata": {
        "id": "J6QSAM79iWRw"
      },
      "execution_count": 62,
      "outputs": []
    },
    {
      "cell_type": "code",
      "source": [
        "pd.set_option('display.max_rows', None)\n",
        "correlation = train.corr()['SalePrice']\n",
        "print(correlation)"
      ],
      "metadata": {
        "id": "l5Lk6aN9zDN1"
      },
      "execution_count": null,
      "outputs": []
    },
    {
      "cell_type": "code",
      "source": [
        "print(train.columns)"
      ],
      "metadata": {
        "id": "2i2uwOtmi3Hk"
      },
      "execution_count": null,
      "outputs": []
    },
    {
      "cell_type": "code",
      "source": [
        "train_columns = set(train.columns)\n",
        "test_columns = set(Z.columns)\n",
        "missing_in_test = train_columns - test_columns\n",
        "missing_in_train = test_columns - train_columns\n",
        "print(\"Columnas faltantes en test:\", missing_in_test)\n",
        "print(\"Columnas faltantes en train:\", missing_in_train)\n"
      ],
      "metadata": {
        "colab": {
          "base_uri": "https://localhost:8080/"
        },
        "id": "doBk-LfjD5Ny",
        "outputId": "b2b95574-8ddc-42b6-a71e-8c98efa2b3d2"
      },
      "execution_count": null,
      "outputs": [
        {
          "output_type": "stream",
          "name": "stdout",
          "text": [
            "Columnas faltantes en test: {'SalePrice'}\n",
            "Columnas faltantes en train: set()\n"
          ]
        }
      ]
    },
    {
      "cell_type": "markdown",
      "metadata": {
        "id": "Kc1dPviQ-20I"
      },
      "source": [
        "# Analisis predictivo"
      ]
    },
    {
      "cell_type": "code",
      "source": [
        "pip install catboost"
      ],
      "metadata": {
        "id": "jwRzl4L6bsGh"
      },
      "execution_count": null,
      "outputs": []
    },
    {
      "cell_type": "code",
      "execution_count": 66,
      "metadata": {
        "id": "3UG0ET0fBFZG"
      },
      "outputs": [],
      "source": [
        "from sklearn.linear_model import LinearRegression\n",
        "from sklearn.svm import SVR\n",
        "from sklearn.linear_model import LogisticRegression\n",
        "from sklearn.metrics import accuracy_score\n",
        "from sklearn.ensemble import RandomForestRegressor\n",
        "from sklearn.model_selection import GridSearchCV\n",
        "from sklearn.metrics import r2_score\n",
        "from sklearn.model_selection import train_test_split\n",
        "import xgboost as xgb\n",
        "from sklearn.neighbors import KNeighborsRegressor\n",
        "from sklearn.linear_model import Ridge\n",
        "from sklearn.ensemble import AdaBoostRegressor\n",
        "from sklearn.model_selection import cross_val_score\n",
        "from catboost import CatBoostRegressor\n",
        "from xgboost import XGBRegressor\n",
        "from sklearn.ensemble import GradientBoostingRegressor\n",
        "from sklearn.metrics import r2_score"
      ]
    },
    {
      "cell_type": "code",
      "execution_count": 94,
      "metadata": {
        "id": "Mueqgv8I62dy"
      },
      "outputs": [],
      "source": [
        "X_train, X_test, y_train, y_test = train_test_split(train.drop('SalePrice', axis=1).values, train['SalePrice'].values, test_size=0.1, random_state=42)"
      ]
    },
    {
      "cell_type": "code",
      "execution_count": 95,
      "metadata": {
        "id": "ZckHiONZpds-"
      },
      "outputs": [],
      "source": [
        "Z = test.values"
      ]
    },
    {
      "cell_type": "code",
      "source": [
        "import xgboost as xgb\n",
        "import matplotlib.pyplot as plt\n",
        "\n",
        "# Crear y ajustar el modelo XGBRegressor\n",
        "model = xgb.XGBRegressor()\n",
        "model.fit(X_train, y_train)\n",
        "\n",
        "# Obtener la importancia de las variables\n",
        "importance = model.feature_importances_\n",
        "feature_names = train.columns\n",
        "\n",
        "# Ordenar las variables por su importancia\n",
        "sorted_indices = importance.argsort()[::-1]\n",
        "sorted_importance = importance[sorted_indices]\n",
        "sorted_feature_names = feature_names[sorted_indices]\n",
        "\n",
        "# Crear un gráfico de barras para visualizar la importancia de las variables\n",
        "plt.figure(figsize=(12, 8))  # Ajustar el tamaño del gráfico según tus preferencias\n",
        "plt.bar(range(len(importance)), sorted_importance)\n",
        "plt.xticks(range(len(importance)), sorted_feature_names, rotation=90)\n",
        "plt.title('Importancia de las variables')\n",
        "plt.xlabel('Variables')\n",
        "plt.ylabel('Importancia')\n",
        "plt.tight_layout()  # Ajustar el espaciado entre los elementos del gráfico\n",
        "plt.show()"
      ],
      "metadata": {
        "id": "iFp0iq0J1D82"
      },
      "execution_count": null,
      "outputs": []
    },
    {
      "cell_type": "code",
      "source": [
        "threshold = 0.01\n",
        "selected_features = [feature for feature, importance_score in zip(feature_names, importance) if importance_score > threshold]\n",
        "train_selected = train[selected_features]\n",
        "test_selected = test[selected_features]"
      ],
      "metadata": {
        "id": "IntgEm0313Mr"
      },
      "execution_count": 93,
      "outputs": []
    },
    {
      "cell_type": "code",
      "source": [
        "train_selected = pd.DataFrame(train_selected, columns=train.columns)\n",
        "train_selected['SalePrice'] = train['SalePrice']"
      ],
      "metadata": {
        "id": "wNWpqSp23u-r"
      },
      "execution_count": 86,
      "outputs": []
    },
    {
      "cell_type": "code",
      "source": [
        "test_selected = pd.DataFrame(test_selected, columns=test.columns)"
      ],
      "metadata": {
        "id": "TAcf4QfS4GeG"
      },
      "execution_count": 87,
      "outputs": []
    },
    {
      "cell_type": "code",
      "source": [
        "X_train, X_test, y_train, y_test = train_test_split(train_selected.drop('SalePrice', axis=1).values, train_selected['SalePrice'].values, test_size=0.1, random_state=42)"
      ],
      "metadata": {
        "id": "ahWz3pGf4QmN"
      },
      "execution_count": 88,
      "outputs": []
    },
    {
      "cell_type": "markdown",
      "metadata": {
        "id": "urDcAb9aiETC"
      },
      "source": [
        "# Random Forest"
      ]
    },
    {
      "cell_type": "code",
      "execution_count": null,
      "metadata": {
        "colab": {
          "base_uri": "https://localhost:8080/"
        },
        "id": "kanzs4J1uSEH",
        "outputId": "efe85c7f-7ef6-497f-c89d-2f4895cc1c60"
      },
      "outputs": [
        {
          "output_type": "stream",
          "name": "stdout",
          "text": [
            "Precisión de Bosque Aleatorio: 0.896709159276371\n"
          ]
        }
      ],
      "source": [
        "random_forest_reg = RandomForestRegressor()\n",
        "random_forest_reg.fit(X_train, y_train)\n",
        "random_forest_preds = random_forest_reg.predict(X_test)\n",
        "random_forest_accuracy = random_forest_reg.score(X_test, y_test)\n",
        "print(\"Precisión de Bosque Aleatorio:\", random_forest_accuracy)"
      ]
    },
    {
      "cell_type": "code",
      "execution_count": null,
      "metadata": {
        "id": "EFk_wFxbhZjQ",
        "colab": {
          "base_uri": "https://localhost:8080/"
        },
        "outputId": "3b14626b-f969-4fea-c937-0bd2bcddcb1a"
      },
      "outputs": [
        {
          "output_type": "stream",
          "name": "stdout",
          "text": [
            "Puntajes de validación cruzada: [0.89133589 0.81435    0.88689929 0.88217255 0.91015674 0.92708941\n",
            " 0.88257177 0.54666295 0.92085024 0.85932854 0.89695981 0.87495348\n",
            " 0.88632133 0.90061023 0.86645322 0.89292689 0.88598023 0.64534254\n",
            " 0.82644899 0.90293771]\n",
            "Puntaje promedio de validación cruzada: 0.8550175913556408\n"
          ]
        }
      ],
      "source": [
        "scores = cross_val_score(random_forest_reg, train.drop('SalePrice', axis=1), train['SalePrice'], cv=20, scoring='r2')\n",
        "print(\"Puntajes de validación cruzada:\", scores)\n",
        "print(\"Puntaje promedio de validación cruzada:\", scores.mean())"
      ]
    },
    {
      "cell_type": "code",
      "execution_count": null,
      "metadata": {
        "id": "UQ7zconDiLQ-"
      },
      "outputs": [],
      "source": [
        "param_grid  = {\n",
        "    'n_estimators': [100, 200, 300],\n",
        "    'max_depth': [None, 5, 10],\n",
        "    'min_samples_split': [2, 5, 10]\n",
        "}\n",
        "rf_model = RandomForestRegressor(random_state=42)\n",
        "grid_search = GridSearchCV(rf_model, param_grid, cv=15)\n",
        "grid_search.fit(X_train, y_train)\n",
        "best_params = grid_search.best_params_\n",
        "rf_model = RandomForestRegressor(n_estimators=500, random_state=42)\n",
        "rf_model.set_params(max_depth=10)\n",
        "cv_scores = cross_val_score(rf_model, X_train, y_train, cv=5)\n",
        "mean_cv_score = cv_scores.mean()\n",
        "print(\"Puntajes de validación cruzada:\", cv_scores)\n",
        "print(\"Puntuación promedio de la validación cruzada:\", mean_cv_score)\n",
        "print(best_params)"
      ]
    },
    {
      "cell_type": "code",
      "execution_count": null,
      "metadata": {
        "id": "jA36tm03v7tw"
      },
      "outputs": [],
      "source": [
        "parameters = {\n",
        "    'n_estimators': [300],\n",
        "    'max_depth': [10],  # Corregir aquí, envolver en una lista\n",
        "    'min_samples_split': [10]\n",
        "}\n",
        "rf_model = RandomForestRegressor(random_state=42)\n",
        "grid_search = GridSearchCV(rf_model, parameters, cv=5)\n",
        "grid_search.fit(train.drop('SalePrice', axis=1), train['SalePrice'])\n",
        "best_model = grid_search.best_estimator_\n",
        "best_params = grid_search.best_params_\n",
        "random_forest_predicciones = best_model.predict(Z)\n"
      ]
    },
    {
      "cell_type": "code",
      "execution_count": null,
      "metadata": {
        "id": "X-P5OzQslxJU"
      },
      "outputs": [],
      "source": [
        "random_forest_reg = RandomForestRegressor()\n",
        "random_forest_reg.fit(train.drop('SalePrice', axis=1), train['SalePrice'])\n",
        "random_forest_preds = random_forest_reg.predict(Z)"
      ]
    },
    {
      "cell_type": "code",
      "execution_count": null,
      "metadata": {
        "colab": {
          "base_uri": "https://localhost:8080/",
          "height": 17
        },
        "id": "KZDdFv3DfxZS",
        "outputId": "a38c00df-f93a-45a6-ae7b-078b6b60cce1"
      },
      "outputs": [
        {
          "output_type": "display_data",
          "data": {
            "text/plain": [
              "<IPython.core.display.Javascript object>"
            ],
            "application/javascript": [
              "\n",
              "    async function download(id, filename, size) {\n",
              "      if (!google.colab.kernel.accessAllowed) {\n",
              "        return;\n",
              "      }\n",
              "      const div = document.createElement('div');\n",
              "      const label = document.createElement('label');\n",
              "      label.textContent = `Downloading \"${filename}\": `;\n",
              "      div.appendChild(label);\n",
              "      const progress = document.createElement('progress');\n",
              "      progress.max = size;\n",
              "      div.appendChild(progress);\n",
              "      document.body.appendChild(div);\n",
              "\n",
              "      const buffers = [];\n",
              "      let downloaded = 0;\n",
              "\n",
              "      const channel = await google.colab.kernel.comms.open(id);\n",
              "      // Send a message to notify the kernel that we're ready.\n",
              "      channel.send({})\n",
              "\n",
              "      for await (const message of channel.messages) {\n",
              "        // Send a message to notify the kernel that we're ready.\n",
              "        channel.send({})\n",
              "        if (message.buffers) {\n",
              "          for (const buffer of message.buffers) {\n",
              "            buffers.push(buffer);\n",
              "            downloaded += buffer.byteLength;\n",
              "            progress.value = downloaded;\n",
              "          }\n",
              "        }\n",
              "      }\n",
              "      const blob = new Blob(buffers, {type: 'application/binary'});\n",
              "      const a = document.createElement('a');\n",
              "      a.href = window.URL.createObjectURL(blob);\n",
              "      a.download = filename;\n",
              "      div.appendChild(a);\n",
              "      a.click();\n",
              "      div.remove();\n",
              "    }\n",
              "  "
            ]
          },
          "metadata": {}
        },
        {
          "output_type": "display_data",
          "data": {
            "text/plain": [
              "<IPython.core.display.Javascript object>"
            ],
            "application/javascript": [
              "download(\"download_b0d80a70-a204-41a8-a599-1635602c7600\", \"RFsubmission.csv\", 21455)"
            ]
          },
          "metadata": {}
        }
      ],
      "source": [
        "submission_df = pd.DataFrame({'Id': Z['Id'], 'SalePrice': random_forest_preds})\n",
        "submission_df.to_csv('RFsubmission.csv', index=False)\n",
        "from google.colab import files\n",
        "files.download('RFsubmission.csv')"
      ]
    },
    {
      "cell_type": "markdown",
      "metadata": {
        "id": "QXvGV-qDiBVe"
      },
      "source": [
        "# XGBoost"
      ]
    },
    {
      "cell_type": "code",
      "execution_count": 89,
      "metadata": {
        "id": "S37IVk2jHgcS",
        "colab": {
          "base_uri": "https://localhost:8080/"
        },
        "outputId": "6c2d0269-34e7-4b47-e408-bae3200bf2df"
      },
      "outputs": [
        {
          "output_type": "stream",
          "name": "stdout",
          "text": [
            "Puntajes de validación cruzada: [0.88547049 0.88330435 0.87087988 0.86074525 0.88284911]\n",
            "Score: 0.876649816114883\n",
            "Desviación estándar: 0.009452680130450438\n",
            "Mejores hiperparámetros: {'colsample_bytree': 0.8, 'learning_rate': 0.1, 'max_depth': 3, 'min_child_weight': 1, 'n_estimators': 100, 'nthread': 4, 'subsample': 0.8}\n",
            "R2: 0.9095408508991784\n"
          ]
        }
      ],
      "source": [
        "parametros = {\n",
        "    'nthread': [4],\n",
        "    'learning_rate': [0.1, 0.5],\n",
        "    'n_estimators': [100],\n",
        "    'max_depth': [2, 3, 4, 5],\n",
        "    'min_child_weight': [1],\n",
        "    'subsample': [0.8],\n",
        "    'colsample_bytree': [0.8]\n",
        "}\n",
        "model = XGBRegressor()\n",
        "grid_search = GridSearchCV(model, parametros, cv=5, scoring='r2', return_train_score=True)\n",
        "grid_search.fit(X_train, y_train)\n",
        "best_params = grid_search.best_params_\n",
        "best_model = grid_search.best_estimator_\n",
        "cv_scores = cross_val_score(best_model, X_train, y_train, cv=5, scoring='r2')\n",
        "mean_score = np.mean(cv_scores)\n",
        "std_score = np.std(cv_scores)\n",
        "print(\"Puntajes de validación cruzada:\", cv_scores)\n",
        "print(\"Score:\", mean_score)\n",
        "print(\"Desviación estándar:\", std_score)\n",
        "print(\"Mejores hiperparámetros:\", best_params)\n",
        "y_pred = best_model.predict(X_test)\n",
        "r2 = r2_score(y_test, y_pred)\n",
        "print(\"R2:\", r2)"
      ]
    },
    {
      "cell_type": "code",
      "execution_count": 90,
      "metadata": {
        "id": "6MkwL9UffDOz"
      },
      "outputs": [],
      "source": [
        "grid_search.fit(train.drop('SalePrice', axis=1), train['SalePrice'])\n",
        "best_params = grid_search.best_params_\n",
        "best_model = grid_search.best_estimator_\n",
        "XGBoost_Predicciones = best_model.predict(Z)"
      ]
    },
    {
      "cell_type": "code",
      "execution_count": 91,
      "metadata": {
        "id": "NJZfsEZbfobe"
      },
      "outputs": [],
      "source": [
        "submission_df = pd.DataFrame({'Id': test_id['Id'], 'SalePrice': XGBoost_Predicciones})"
      ]
    },
    {
      "cell_type": "code",
      "execution_count": 92,
      "metadata": {
        "id": "XfV2up2eO-RH",
        "colab": {
          "base_uri": "https://localhost:8080/",
          "height": 17
        },
        "outputId": "5ecfcac3-fc5f-4a98-e7ef-01b6bafacd8a"
      },
      "outputs": [
        {
          "output_type": "display_data",
          "data": {
            "text/plain": [
              "<IPython.core.display.Javascript object>"
            ],
            "application/javascript": [
              "\n",
              "    async function download(id, filename, size) {\n",
              "      if (!google.colab.kernel.accessAllowed) {\n",
              "        return;\n",
              "      }\n",
              "      const div = document.createElement('div');\n",
              "      const label = document.createElement('label');\n",
              "      label.textContent = `Downloading \"${filename}\": `;\n",
              "      div.appendChild(label);\n",
              "      const progress = document.createElement('progress');\n",
              "      progress.max = size;\n",
              "      div.appendChild(progress);\n",
              "      document.body.appendChild(div);\n",
              "\n",
              "      const buffers = [];\n",
              "      let downloaded = 0;\n",
              "\n",
              "      const channel = await google.colab.kernel.comms.open(id);\n",
              "      // Send a message to notify the kernel that we're ready.\n",
              "      channel.send({})\n",
              "\n",
              "      for await (const message of channel.messages) {\n",
              "        // Send a message to notify the kernel that we're ready.\n",
              "        channel.send({})\n",
              "        if (message.buffers) {\n",
              "          for (const buffer of message.buffers) {\n",
              "            buffers.push(buffer);\n",
              "            downloaded += buffer.byteLength;\n",
              "            progress.value = downloaded;\n",
              "          }\n",
              "        }\n",
              "      }\n",
              "      const blob = new Blob(buffers, {type: 'application/binary'});\n",
              "      const a = document.createElement('a');\n",
              "      a.href = window.URL.createObjectURL(blob);\n",
              "      a.download = filename;\n",
              "      div.appendChild(a);\n",
              "      a.click();\n",
              "      div.remove();\n",
              "    }\n",
              "  "
            ]
          },
          "metadata": {}
        },
        {
          "output_type": "display_data",
          "data": {
            "text/plain": [
              "<IPython.core.display.Javascript object>"
            ],
            "application/javascript": [
              "download(\"download_6e0967d5-c9c3-4975-b1eb-b38a60551200\", \"XGBsubmission.csv\", 21751)"
            ]
          },
          "metadata": {}
        }
      ],
      "source": [
        "submission_df.to_csv('XGBsubmission.csv', index=False)\n",
        "from google.colab import files\n",
        "files.download('XGBsubmission.csv')"
      ]
    },
    {
      "cell_type": "markdown",
      "metadata": {
        "id": "IJUprtT8IwBO"
      },
      "source": [
        "### Regresión Ridge"
      ]
    },
    {
      "cell_type": "code",
      "execution_count": null,
      "metadata": {
        "id": "_6SLit_qHqKh",
        "colab": {
          "base_uri": "https://localhost:8080/"
        },
        "outputId": "86b9201c-03af-4eed-c744-86f65548b665"
      },
      "outputs": [
        {
          "output_type": "stream",
          "name": "stdout",
          "text": [
            "Puntuación R²:  0.8442306255498634\n"
          ]
        }
      ],
      "source": [
        "alpha_values = [0.1, 1.0, 10.0]\n",
        "ridge_reg = Ridge()\n",
        "param_grid = {'alpha': alpha_values}\n",
        "grid_search = GridSearchCV(ridge_reg, param_grid, cv=5)\n",
        "grid_search.fit(X_train, y_train)\n",
        "best_ridge_reg = grid_search.best_estimator_\n",
        "y_pred = best_ridge_reg.predict(X_test)\n",
        "r2 = r2_score(y_test, y_pred)\n",
        "print(\"Puntuación R²: \", r2)"
      ]
    },
    {
      "cell_type": "code",
      "execution_count": null,
      "metadata": {
        "id": "hQlTFkxdIWeI"
      },
      "outputs": [],
      "source": [
        "alpha_values = [0.1, 1.0, 10.0]\n",
        "ridge_reg = Ridge()\n",
        "param_grid = {'alpha': alpha_values}\n",
        "grid_search = GridSearchCV(ridge_reg, param_grid, cv=5)\n",
        "grid_search.fit(train.drop('SalePrice', axis=1), train['SalePrice'])\n",
        "best_ridge_reg = grid_search.best_estimator_\n",
        "RegresionRidge_Predicciones = best_ridge_reg.predict(Z)"
      ]
    },
    {
      "cell_type": "code",
      "execution_count": null,
      "metadata": {
        "id": "jezInAiEIS3c"
      },
      "outputs": [],
      "source": [
        "submission_df = pd.DataFrame({'Id': test_id['Id'], 'SalePrice': RegresionRidge_Predicciones})\n",
        "submission_df.to_csv('RegRidgesubmission.csv', index=False)\n",
        "files.download('RegRidgesubmission.csv')"
      ]
    },
    {
      "cell_type": "markdown",
      "source": [
        "### Cat Boost Regressor"
      ],
      "metadata": {
        "id": "OshC75R1bTrr"
      }
    },
    {
      "cell_type": "code",
      "source": [
        "param_grid = {\n",
        "    'learning_rate': [0.1, 0.01],\n",
        "    'depth': [4, 6, 8],\n",
        "    'iterations': [100, 200],\n",
        "    'l2_leaf_reg': [1, 3, 5]\n",
        "}\n",
        "model = CatBoostRegressor()\n",
        "grid_search = GridSearchCV(model, param_grid, cv=5, scoring='r2', return_train_score=True)\n",
        "grid_search.fit(X_train, y_train)\n",
        "best_params = grid_search.best_params_\n",
        "best_model = grid_search.best_estimator_\n",
        "print(\"Mejores hiperparámetros:\", best_params)\n",
        "y_pred = best_model.predict(X_test)\n",
        "r2 = r2_score(y_test, y_pred)\n",
        "print(\"R2:\", r2)"
      ],
      "metadata": {
        "id": "9X9nDYOTbSbH"
      },
      "execution_count": null,
      "outputs": []
    },
    {
      "cell_type": "code",
      "source": [
        "grid_search.fit(train.drop('SalePrice', axis=1), train['SalePrice'])\n",
        "best_params = grid_search.best_params_\n",
        "best_model = grid_search.best_estimator_\n",
        "CatBoost_Predicciones = best_model.predict(Z)\n",
        "submission_df = pd.DataFrame({'Id': test_id['Id'], 'SalePrice': CatBoost_Predicciones})\n",
        "submission_df.to_csv('Catsubmission.csv', index=False)\n",
        "from google.colab import files\n",
        "files.download('Catsubmission.csv')"
      ],
      "metadata": {
        "id": "bH8u0tZSeHn9"
      },
      "execution_count": null,
      "outputs": []
    },
    {
      "cell_type": "markdown",
      "source": [],
      "metadata": {
        "id": "aEzWbPgKTqPG"
      }
    },
    {
      "cell_type": "code",
      "source": [
        "from lightgbm import LGBMRegressor\n",
        "from sklearn.model_selection import GridSearchCV\n",
        "param_grid = {\n",
        "    'n_estimators': [100],\n",
        "    'learning_rate': [0.1, 0.5],\n",
        "    'max_depth': [2, 3, 4, 5],\n",
        "    'num_leaves': [31, 50, 100],\n",
        "    'subsample': [0.8],\n",
        "    'colsample_bytree': [0.8]\n",
        "}\n",
        "model = LGBMRegressor()\n",
        "grid_search = GridSearchCV(model, param_grid, cv=5, scoring='r2', return_train_score=True)\n",
        "grid_search.fit(X_train, y_train)\n",
        "cv_results = grid_search.cv_results_\n",
        "print(\"Resultados de la validación cruzada:\")\n",
        "for mean_score, params in zip(cv_results['mean_test_score'], cv_results['params']):\n",
        "    print(\"R2:\", mean_score)\n",
        "    print(\"Hiperparámetros:\", params)\n",
        "    print(\"---\")\n",
        "best_params = grid_search.best_params_\n",
        "best_model = grid_search.best_estimator_\n",
        "print(\"Mejores hiperparámetros:\", best_params)\n",
        "y_pred = best_model.predict(X_test)\n",
        "r2 = r2_score(y_test, y_pred)\n",
        "print(\"R2:\", r2)"
      ],
      "metadata": {
        "id": "jZQ6IQ2VTr2K"
      },
      "execution_count": null,
      "outputs": []
    },
    {
      "cell_type": "code",
      "source": [
        "grid_search.fit(train.drop('SalePrice', axis=1), train['SalePrice'])\n",
        "best_params = grid_search.best_params_\n",
        "best_model = grid_search.best_estimator_\n",
        "LGBM_Predicciones = best_model.predict(Z)"
      ],
      "metadata": {
        "id": "2HL2QD6SX9U_"
      },
      "execution_count": null,
      "outputs": []
    },
    {
      "cell_type": "code",
      "source": [
        "submission_df = pd.DataFrame({'Id': test_id['Id'], 'SalePrice': LGBM_Predicciones})\n",
        "submission_df.to_csv('LGBMsubmission.csv', index=False)\n",
        "from google.colab import files\n",
        "files.download('LGBMsubmission.csv')"
      ],
      "metadata": {
        "colab": {
          "base_uri": "https://localhost:8080/",
          "height": 17
        },
        "id": "xkduVCf-YLm_",
        "outputId": "c35a7abf-5d2e-4980-9bc0-6596689d1961"
      },
      "execution_count": null,
      "outputs": [
        {
          "output_type": "display_data",
          "data": {
            "text/plain": [
              "<IPython.core.display.Javascript object>"
            ],
            "application/javascript": [
              "\n",
              "    async function download(id, filename, size) {\n",
              "      if (!google.colab.kernel.accessAllowed) {\n",
              "        return;\n",
              "      }\n",
              "      const div = document.createElement('div');\n",
              "      const label = document.createElement('label');\n",
              "      label.textContent = `Downloading \"${filename}\": `;\n",
              "      div.appendChild(label);\n",
              "      const progress = document.createElement('progress');\n",
              "      progress.max = size;\n",
              "      div.appendChild(progress);\n",
              "      document.body.appendChild(div);\n",
              "\n",
              "      const buffers = [];\n",
              "      let downloaded = 0;\n",
              "\n",
              "      const channel = await google.colab.kernel.comms.open(id);\n",
              "      // Send a message to notify the kernel that we're ready.\n",
              "      channel.send({})\n",
              "\n",
              "      for await (const message of channel.messages) {\n",
              "        // Send a message to notify the kernel that we're ready.\n",
              "        channel.send({})\n",
              "        if (message.buffers) {\n",
              "          for (const buffer of message.buffers) {\n",
              "            buffers.push(buffer);\n",
              "            downloaded += buffer.byteLength;\n",
              "            progress.value = downloaded;\n",
              "          }\n",
              "        }\n",
              "      }\n",
              "      const blob = new Blob(buffers, {type: 'application/binary'});\n",
              "      const a = document.createElement('a');\n",
              "      a.href = window.URL.createObjectURL(blob);\n",
              "      a.download = filename;\n",
              "      div.appendChild(a);\n",
              "      a.click();\n",
              "      div.remove();\n",
              "    }\n",
              "  "
            ]
          },
          "metadata": {}
        },
        {
          "output_type": "display_data",
          "data": {
            "text/plain": [
              "<IPython.core.display.Javascript object>"
            ],
            "application/javascript": [
              "download(\"download_bef73bff-cb8a-4a17-9d32-5f4b2cc8c914\", \"LGBMsubmission.csv\", 34424)"
            ]
          },
          "metadata": {}
        }
      ]
    },
    {
      "cell_type": "markdown",
      "source": [
        "### Gradient Boosting"
      ],
      "metadata": {
        "id": "ncfcC1btW54i"
      }
    },
    {
      "cell_type": "code",
      "source": [
        "model = GradientBoostingRegressor()\n",
        "param_grid = {\n",
        "    'learning_rate': [0.1, 0.5],\n",
        "    'n_estimators': [100, 200],\n",
        "    'max_depth': [3, 4, 5],\n",
        "    'min_samples_split': [2, 4]\n",
        "}\n",
        "grid_search = GridSearchCV(model, param_grid, cv=5)\n",
        "grid_search.fit(X_train, y_train)\n",
        "best_model = grid_search.best_estimator_\n",
        "y_pred = best_model.predict(X_test)\n",
        "r2 = r2_score(y_test, y_pred)\n",
        "print(\"Coeficiente de determinación (R2):\", r2)"
      ],
      "metadata": {
        "id": "Gmzr3WOvUl1U"
      },
      "execution_count": null,
      "outputs": []
    },
    {
      "cell_type": "code",
      "source": [
        "grid_search.fit(train.drop('SalePrice', axis=1), train['SalePrice'])\n",
        "best_params = grid_search.best_params_\n",
        "best_model = grid_search.best_estimator_\n",
        "GradBoost_Predicciones = best_model.predict(Z)"
      ],
      "metadata": {
        "id": "Yha9DWJMV9qV"
      },
      "execution_count": null,
      "outputs": []
    },
    {
      "cell_type": "code",
      "source": [
        "submission_df = pd.DataFrame({'Id': test_id['Id'], 'SalePrice': GradBoost_Predicciones})\n",
        "submission_df.to_csv('Gradsubmission.csv', index=False)\n",
        "from google.colab import files\n",
        "files.download('Gradsubmission.csv')"
      ],
      "metadata": {
        "colab": {
          "base_uri": "https://localhost:8080/",
          "height": 17
        },
        "id": "bvsLvoXQWDE5",
        "outputId": "a88ab73b-0650-43ae-e309-3182badbcb2d"
      },
      "execution_count": null,
      "outputs": [
        {
          "output_type": "display_data",
          "data": {
            "text/plain": [
              "<IPython.core.display.Javascript object>"
            ],
            "application/javascript": [
              "\n",
              "    async function download(id, filename, size) {\n",
              "      if (!google.colab.kernel.accessAllowed) {\n",
              "        return;\n",
              "      }\n",
              "      const div = document.createElement('div');\n",
              "      const label = document.createElement('label');\n",
              "      label.textContent = `Downloading \"${filename}\": `;\n",
              "      div.appendChild(label);\n",
              "      const progress = document.createElement('progress');\n",
              "      progress.max = size;\n",
              "      div.appendChild(progress);\n",
              "      document.body.appendChild(div);\n",
              "\n",
              "      const buffers = [];\n",
              "      let downloaded = 0;\n",
              "\n",
              "      const channel = await google.colab.kernel.comms.open(id);\n",
              "      // Send a message to notify the kernel that we're ready.\n",
              "      channel.send({})\n",
              "\n",
              "      for await (const message of channel.messages) {\n",
              "        // Send a message to notify the kernel that we're ready.\n",
              "        channel.send({})\n",
              "        if (message.buffers) {\n",
              "          for (const buffer of message.buffers) {\n",
              "            buffers.push(buffer);\n",
              "            downloaded += buffer.byteLength;\n",
              "            progress.value = downloaded;\n",
              "          }\n",
              "        }\n",
              "      }\n",
              "      const blob = new Blob(buffers, {type: 'application/binary'});\n",
              "      const a = document.createElement('a');\n",
              "      a.href = window.URL.createObjectURL(blob);\n",
              "      a.download = filename;\n",
              "      div.appendChild(a);\n",
              "      a.click();\n",
              "      div.remove();\n",
              "    }\n",
              "  "
            ]
          },
          "metadata": {}
        },
        {
          "output_type": "display_data",
          "data": {
            "text/plain": [
              "<IPython.core.display.Javascript object>"
            ],
            "application/javascript": [
              "download(\"download_f437fd5b-015a-49d3-b0cc-3e8f9ad59bf9\", \"Gradsubmission.csv\", 34463)"
            ]
          },
          "metadata": {}
        }
      ]
    }
  ],
  "metadata": {
    "colab": {
      "provenance": [],
      "gpuType": "T4"
    },
    "kernelspec": {
      "display_name": "Python 3",
      "name": "python3"
    },
    "language_info": {
      "name": "python"
    }
  },
  "nbformat": 4,
  "nbformat_minor": 0
}